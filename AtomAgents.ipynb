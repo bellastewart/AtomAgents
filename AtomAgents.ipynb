{
 "cells": [
  {
   "cell_type": "code",
   "execution_count": null,
   "id": "8f76b429-af5a-4983-8baa-b399b0aba083",
   "metadata": {},
   "outputs": [],
   "source": [
    "from AtomAgents import *"
   ]
  },
  {
   "cell_type": "markdown",
   "id": "97913ffc-2c11-432f-8cf5-c58711312569",
   "metadata": {},
   "source": [
    "# Task "
   ]
  },
  {
   "cell_type": "code",
   "execution_count": 2,
   "id": "ae178299-b0b0-482e-b4bd-f36def7c13b1",
   "metadata": {},
   "outputs": [],
   "source": [
    "Task = '''\n",
    "Here you can present your task that requires performing atomistic simulations.'''"
   ]
  },
  {
   "cell_type": "code",
   "execution_count": null,
   "id": "e0fa4386-70d2-4179-bca4-e209a53a5faf",
   "metadata": {},
   "outputs": [],
   "source": [
    "res = admin_core.initiate_chat(recipient=engineer_core,\n",
    "message=Task)"
   ]
  },
  {
   "cell_type": "code",
   "execution_count": null,
   "id": "fa5dfde3-57d3-44ab-94d7-4f6db59bdd3e",
   "metadata": {},
   "outputs": [],
   "source": [
    "formatted_text = \"\"\n",
    "for i in range(len(res.chat_history)):\n",
    "    try:\n",
    "        formatted_text += f'''{res.chat_history[i]['role']}:{res.chat_history[i]['tool_calls'][0]['function']['name']}-{res.chat_history[1]['tool_calls'][0]['function']['arguments']}\\n\\n'''\n",
    "    except:\n",
    "        formatted_text += f'''{res.chat_history[i]['role']}: {res.chat_history[i]['content']}\\n\\n'''\n",
    "\n",
    "\n",
    "Markdown(formatted_text)"
   ]
  },
  {
   "cell_type": "markdown",
   "id": "675567d5-7f23-4037-8d27-4a281034bca6",
   "metadata": {},
   "source": [
    "# Save conversations to pdf file"
   ]
  },
  {
   "cell_type": "code",
   "execution_count": null,
   "id": "997d0e08-d633-4817-a6b5-a07c3d07572e",
   "metadata": {},
   "outputs": [],
   "source": [
    "markdown_to_pdf(formatted_text, 'NAME.pdf')"
   ]
  }
 ],
 "metadata": {
  "kernelspec": {
   "display_name": "Python 3 (ipykernel)",
   "language": "python",
   "name": "python3"
  },
  "language_info": {
   "codemirror_mode": {
    "name": "ipython",
    "version": 3
   },
   "file_extension": ".py",
   "mimetype": "text/x-python",
   "name": "python",
   "nbconvert_exporter": "python",
   "pygments_lexer": "ipython3",
   "version": "3.10.13"
  }
 },
 "nbformat": 4,
 "nbformat_minor": 5
}
